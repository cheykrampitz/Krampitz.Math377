{
 "cells": [
  {
   "cell_type": "markdown",
   "metadata": {},
   "source": [
    "# Lesson 4\n",
    "by Cheyenne Krampitz"
   ]
  },
  {
   "cell_type": "markdown",
   "metadata": {},
   "source": [
    "###### 1) Create 3 variables for name (first and last), age and hometown. Assign to these variables your own name, age and hometown. Now, recreate the following sentence using variable assignment and the ‘print’ command in Python: \n",
    "“I am &lt;Your name here&gt;. I am &lt;age&gt; years old. I’m from &lt;hometown&gt;”\n",
    "a) Now, use a string method to make your name lower case. Print the all lower case\n",
    "version of your name.\n",
    "b) Now use a string method to make your full name a proper noun. Print this version of\n",
    "your name."
   ]
  },
  {
   "cell_type": "code",
   "execution_count": 23,
   "metadata": {},
   "outputs": [
    {
     "name": "stdout",
     "output_type": "stream",
     "text": [
      "I am Cheyenne Krampitz. I am 20 years old. I'm from Owatonna\n"
     ]
    }
   ],
   "source": [
    "Name = \"Cheyenne Krampitz\"\n",
    "Age = \"20\"\n",
    "Hometown = \"Owatonna\"\n",
    "print(\"I am \" + Name + \". I am \" + Age + \" years old. I'm from \" + Hometown)"
   ]
  },
  {
   "cell_type": "code",
   "execution_count": 12,
   "metadata": {},
   "outputs": [
    {
     "name": "stdout",
     "output_type": "stream",
     "text": [
      "cheyenne krampitz\n"
     ]
    }
   ],
   "source": [
    "print(str.lower(Name))"
   ]
  },
  {
   "cell_type": "code",
   "execution_count": 13,
   "metadata": {},
   "outputs": [
    {
     "name": "stdout",
     "output_type": "stream",
     "text": [
      "Cheyenne Krampitz\n"
     ]
    }
   ],
   "source": [
    "print(str.title(Name))"
   ]
  },
  {
   "cell_type": "markdown",
   "metadata": {},
   "source": [
    "###### 2) Using the ‘replace’ method, replace all “I am” with “he is” or “she is” and all “I’m” with “he’s” or “she’s”."
   ]
  },
  {
   "cell_type": "code",
   "execution_count": 14,
   "metadata": {},
   "outputs": [
    {
     "name": "stdout",
     "output_type": "stream",
     "text": [
      "she is Cheyenne Krampitz. she is 20 years old. she's from Owatonna\n"
     ]
    }
   ],
   "source": [
    "str = \"I am Cheyenne Krampitz. I am 20 years old. I'm from Owatonna\"\n",
    "print(str.replace(\"I am\", \"he is\").replace(\"I'm\", \"she's\"))"
   ]
  },
  {
   "cell_type": "markdown",
   "metadata": {},
   "source": [
    "###### 3) Return a boolean response indicating whether the length of your original sentence (in #1) is greater than your age plus 40."
   ]
  },
  {
   "cell_type": "code",
   "execution_count": 24,
   "metadata": {},
   "outputs": [
    {
     "data": {
      "text/plain": [
       "False"
      ]
     },
     "execution_count": 24,
     "metadata": {},
     "output_type": "execute_result"
    }
   ],
   "source": [
    "str = \"I am Cheyenne Krampitz. I am 20 years old. I'm from Owatonna\"\n",
    "bool(len(str)>(20+40))"
   ]
  },
  {
   "cell_type": "code",
   "execution_count": null,
   "metadata": {},
   "outputs": [],
   "source": []
  }
 ],
 "metadata": {
  "kernelspec": {
   "display_name": "Python 3",
   "language": "python",
   "name": "python3"
  },
  "language_info": {
   "codemirror_mode": {
    "name": "ipython",
    "version": 3
   },
   "file_extension": ".py",
   "mimetype": "text/x-python",
   "name": "python",
   "nbconvert_exporter": "python",
   "pygments_lexer": "ipython3",
   "version": "3.6.5"
  }
 },
 "nbformat": 4,
 "nbformat_minor": 2
}
