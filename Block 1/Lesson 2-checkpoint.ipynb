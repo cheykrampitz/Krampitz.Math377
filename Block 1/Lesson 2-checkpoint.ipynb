{
 "cells": [
  {
   "cell_type": "markdown",
   "metadata": {},
   "source": [
    "# Lesson 2 Notebook \n",
    "by Cheyenne Krampitz "
   ]
  },
  {
   "cell_type": "markdown",
   "metadata": {},
   "source": [
    "###### 1) Define data science. How do you think you will use Data Science in your career (either as a student or in the Air Force)?\n",
    "\n",
    "Data science is mathematical and computational data or knowledge. I think it is a key skill in problem solving. In the Air Force, it can be used to solve problems logically and quantitatively. "
   ]
  },
  {
   "cell_type": "markdown",
   "metadata": {},
   "source": [
    "###### 2) What are the three focus areas in this course?\n",
    "\n",
    "Exploration, Inference, Prediction"
   ]
  },
  {
   "cell_type": "markdown",
   "metadata": {},
   "source": [
    "###### 3) Install the datascience package (no Jupyter notebook input required).\n",
    "\n",
    "###### 4) Do at least 3 basic calculations in three separate boxes."
   ]
  },
  {
   "cell_type": "code",
   "execution_count": 2,
   "metadata": {},
   "outputs": [
    {
     "data": {
      "text/plain": [
       "8"
      ]
     },
     "execution_count": 2,
     "metadata": {},
     "output_type": "execute_result"
    }
   ],
   "source": [
    "4 + 4"
   ]
  },
  {
   "cell_type": "code",
   "execution_count": 3,
   "metadata": {},
   "outputs": [
    {
     "data": {
      "text/plain": [
       "3654"
      ]
     },
     "execution_count": 3,
     "metadata": {},
     "output_type": "execute_result"
    }
   ],
   "source": [
    "87 * 42"
   ]
  },
  {
   "cell_type": "code",
   "execution_count": 4,
   "metadata": {},
   "outputs": [
    {
     "data": {
      "text/plain": [
       "62.597938144329895"
      ]
     },
     "execution_count": 4,
     "metadata": {},
     "output_type": "execute_result"
    }
   ],
   "source": [
    "6072 / 97"
   ]
  },
  {
   "cell_type": "markdown",
   "metadata": {},
   "source": [
    "###### 5) In another box, use python code to print your name followed by a “thumbs up” sign (you may need to do an internet search for Unicode thumbs up character)."
   ]
  },
  {
   "cell_type": "code",
   "execution_count": 49,
   "metadata": {},
   "outputs": [
    {
     "name": "stdout",
     "output_type": "stream",
     "text": [
      "Cheyenne 👍\n"
     ]
    }
   ],
   "source": [
    "print(\"Cheyenne 👍\")"
   ]
  },
  {
   "cell_type": "markdown",
   "metadata": {},
   "source": [
    "###### 6) I read once that violent crime is significantly associated with ice cream sales. That is, as ice cream sales increase, so does violent crime. Do high ice cream sales cause an increase in violent crime? Explain this relationship.\n",
    "\n",
    "Ice cream sales do not cause an increase in crime. The lurking variable in this situation would be summertime. Both events occur in the same season (Summer) and are not directly associated. "
   ]
  },
  {
   "cell_type": "markdown",
   "metadata": {},
   "source": [
    "###### 7) What is the difference between an observational study and an experiment?\n",
    "An observational study deals with only what you see. For instance, someone would be able to notice an increase in ice cream sales and an increase in crime rates a the same time - this would be an observational study. An experimental study involves testing a theory by manipulating the a variable and keeping the others constant. "
   ]
  },
  {
   "cell_type": "code",
   "execution_count": null,
   "metadata": {},
   "outputs": [],
   "source": []
  }
 ],
 "metadata": {
  "kernelspec": {
   "display_name": "Python 3",
   "language": "python",
   "name": "python3"
  },
  "language_info": {
   "codemirror_mode": {
    "name": "ipython",
    "version": 3
   },
   "file_extension": ".py",
   "mimetype": "text/x-python",
   "name": "python",
   "nbconvert_exporter": "python",
   "pygments_lexer": "ipython3",
   "version": "3.6.5"
  }
 },
 "nbformat": 4,
 "nbformat_minor": 2
}
